{
 "cells": [
  {
   "cell_type": "code",
   "execution_count": 1,
   "id": "804c2d84",
   "metadata": {},
   "outputs": [],
   "source": [
    "import pandas as pd\n",
    "import pymongo\n",
    "import requests"
   ]
  },
  {
   "cell_type": "code",
   "execution_count": 2,
   "id": "6df0d9ca",
   "metadata": {},
   "outputs": [],
   "source": [
    "# Reading in the JSON file\n",
    "happiness_df = pd.read_json(\"../happiness_data/happiness_json.json\")"
   ]
  },
  {
   "cell_type": "code",
   "execution_count": 3,
   "id": "719cc2d5",
   "metadata": {},
   "outputs": [],
   "source": [
    "# connecting to MongoDB\n",
    "# https://docs.mongodb.com/manual/reference/default-mongodb-port/\n",
    "conn = 'mongodb://localhost:27017'\n",
    "client = pymongo.MongoClient(conn)\n",
    "\n",
    "# Define the 'happiness' database in Mongo\n",
    "db = client.happiness"
   ]
  },
  {
   "cell_type": "code",
   "execution_count": 4,
   "id": "b7dc3da7",
   "metadata": {},
   "outputs": [
    {
     "data": {
      "text/plain": [
       "<pymongo.results.InsertManyResult at 0x1697b6d3bc0>"
      ]
     },
     "execution_count": 4,
     "metadata": {},
     "output_type": "execute_result"
    }
   ],
   "source": [
    "#inserting records into MongoDB\n",
    "db.collection.insert_many(happiness_df.to_dict('records'))\n"
   ]
  },
  {
   "cell_type": "code",
   "execution_count": null,
   "id": "675b2cc5",
   "metadata": {},
   "outputs": [],
   "source": []
  }
 ],
 "metadata": {
  "kernelspec": {
   "display_name": "pythondata",
   "language": "python",
   "name": "pythondata"
  },
  "language_info": {
   "codemirror_mode": {
    "name": "ipython",
    "version": 3
   },
   "file_extension": ".py",
   "mimetype": "text/x-python",
   "name": "python",
   "nbconvert_exporter": "python",
   "pygments_lexer": "ipython3",
   "version": "3.8.8"
  }
 },
 "nbformat": 4,
 "nbformat_minor": 5
}
