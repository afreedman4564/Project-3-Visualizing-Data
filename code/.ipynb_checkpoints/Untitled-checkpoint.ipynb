{
 "cells": [
  {
   "cell_type": "code",
   "execution_count": 1,
   "id": "a47d9391",
   "metadata": {},
   "outputs": [],
   "source": [
    "# bring in dependencies\n",
    "import pandas as pd"
   ]
  },
  {
   "cell_type": "code",
   "execution_count": 10,
   "id": "ae668b9a",
   "metadata": {},
   "outputs": [
    {
     "data": {
      "text/plain": [
       "2015    158\n",
       "2016    157\n",
       "2018    156\n",
       "2019    156\n",
       "2017    155\n",
       "2020    153\n",
       "2021    149\n",
       "2022    147\n",
       "Name: yr, dtype: int64"
      ]
     },
     "execution_count": 10,
     "metadata": {},
     "output_type": "execute_result"
    }
   ],
   "source": [
    "# csv file path\n",
    "# iterate through all csvs to convert to one JSON\n",
    "\n",
    "year_list = [\"2015\", \"2016\", \"2017\", \"2018\", \"2019\", \"2020\", \"2021\", \"2022\"]\n",
    "happiness_frames = []\n",
    "\n",
    "file_path = \"../happiness_csvs/\"\n",
    "\n",
    "for y in year_list:\n",
    "    csv_file = file_path + y + \".csv\"\n",
    "    year = y\n",
    "#     print(csv_file)\n",
    "    year = pd.read_csv(csv_file)\n",
    "    year[\"yr\"] = y\n",
    "    happiness_frames.append(year)\n",
    "complete_happiness = pd.concat(happiness_frames)\n",
    "\n",
    "complete_happiness[\"yr\"].value_counts()"
   ]
  },
  {
   "cell_type": "code",
   "execution_count": 17,
   "id": "13dae167",
   "metadata": {},
   "outputs": [
    {
     "name": "stdout",
     "output_type": "stream",
     "text": [
      "['Switzerland' 'Iceland' 'Denmark' 'Norway' 'Canada' 'Finland'\n",
      " 'Netherlands' 'Sweden' 'New Zealand' 'Australia' 'Israel' 'Costa Rica'\n",
      " 'Austria' 'Mexico' 'United States' 'Brazil' 'Luxembourg' 'Ireland'\n",
      " 'Belgium' 'United Arab Emirates' 'United Kingdom' 'Oman' 'Venezuela'\n",
      " 'Singapore' 'Panama' 'Germany' 'Chile' 'Qatar' 'France' 'Argentina'\n",
      " 'Czech Republic' 'Uruguay' 'Colombia' 'Thailand' 'Saudi Arabia' 'Spain'\n",
      " 'Malta' 'Taiwan' 'Kuwait' 'Suriname' 'Trinidad and Tobago' 'El Salvador'\n",
      " 'Guatemala' 'Uzbekistan' 'Slovakia' 'Japan' 'South Korea' 'Ecuador'\n",
      " 'Bahrain' 'Italy' 'Bolivia' 'Moldova' 'Paraguay' 'Kazakhstan' 'Slovenia'\n",
      " 'Lithuania' 'Nicaragua' 'Peru' 'Belarus' 'Poland' 'Malaysia' 'Croatia'\n",
      " 'Libya' 'Russia' 'Jamaica' 'North Cyprus' 'Cyprus' 'Algeria' 'Kosovo'\n",
      " 'Turkmenistan' 'Mauritius' 'Hong Kong' 'Estonia' 'Indonesia' 'Vietnam'\n",
      " 'Turkey' 'Kyrgyzstan' 'Nigeria' 'Bhutan' 'Azerbaijan' 'Pakistan' 'Jordan'\n",
      " 'Montenegro' 'China' 'Zambia' 'Romania' 'Serbia' 'Portugal' 'Latvia'\n",
      " 'Philippines' 'Somaliland region' 'Morocco' 'Macedonia' 'Mozambique'\n",
      " 'Albania' 'Bosnia and Herzegovina' 'Lesotho' 'Dominican Republic' 'Laos'\n",
      " 'Mongolia' 'Swaziland' 'Greece' 'Lebanon' 'Hungary' 'Honduras'\n",
      " 'Tajikistan' 'Tunisia' 'Palestinian Territories' 'Bangladesh' 'Iran'\n",
      " 'Ukraine' 'Iraq' 'South Africa' 'Ghana' 'Zimbabwe' 'Liberia' 'India'\n",
      " 'Sudan' 'Haiti' 'Congo (Kinshasa)' 'Nepal' 'Ethiopia' 'Sierra Leone'\n",
      " 'Mauritania' 'Kenya' 'Djibouti' 'Armenia' 'Botswana' 'Myanmar' 'Georgia'\n",
      " 'Malawi' 'Sri Lanka' 'Cameroon' 'Bulgaria' 'Egypt' 'Yemen' 'Angola'\n",
      " 'Mali' 'Congo (Brazzaville)' 'Comoros' 'Uganda' 'Senegal' 'Gabon' 'Niger'\n",
      " 'Cambodia' 'Tanzania' 'Madagascar' 'Central African Republic' 'Chad'\n",
      " 'Guinea' 'Ivory Coast' 'Burkina Faso' 'Afghanistan' 'Rwanda' 'Benin'\n",
      " 'Syria' 'Burundi' 'Togo' 'Puerto Rico' 'Belize' 'Somalia'\n",
      " 'Somaliland Region' 'Namibia' 'South Sudan' 'Taiwan Province of China'\n",
      " 'Hong Kong S.A.R., China' nan 'Luxembourg*' 'Czechia' 'Guatemala*'\n",
      " 'Kuwait*' 'Belarus*' 'Turkmenistan*' 'North Cyprus*'\n",
      " 'Hong Kong S.A.R. of China' 'Libya*' 'North Macedonia' 'Azerbaijan*'\n",
      " 'Gambia*' 'Liberia*' 'Congo' 'Niger*' 'Comoros*'\n",
      " 'Palestinian Territories*' 'Eswatini, Kingdom of*' 'Madagascar*' 'Chad*'\n",
      " 'Yemen*' 'Mauritania*' 'Lesotho*' 'Botswana*' 'Rwanda*' 'xx']\n"
     ]
    }
   ],
   "source": [
    "unique_country_list = complete_happiness[\"Country\"].unique()\n",
    "print(unique_country_list)"
   ]
  },
  {
   "cell_type": "code",
   "execution_count": 18,
   "id": "3817d112",
   "metadata": {},
   "outputs": [
    {
     "data": {
      "text/plain": [
       "Index(['Country', 'Region', 'Happiness Rank', 'Happiness Score',\n",
       "       'Standard Error', 'Economy (GDP per Capita)', 'Family',\n",
       "       'Health (Life Expectancy)', 'Freedom', 'Trust (Government Corruption)',\n",
       "       'Generosity', 'Dystopia Residual', 'yr', 'Lower Confidence Interval',\n",
       "       'Upper Confidence Interval', 'Happiness.Rank', 'Happiness.Score',\n",
       "       'Whisker.high', 'Whisker.low', 'Economy..GDP.per.Capita.',\n",
       "       'Health..Life.Expectancy.', 'Trust..Government.Corruption.',\n",
       "       'Dystopia.Residual', 'Overall rank', 'Country or region', 'Score',\n",
       "       'GDP per capita', 'Social support', 'Healthy life expectancy',\n",
       "       'Freedom to make life choices', 'Perceptions of corruption',\n",
       "       'Country name', 'Regional indicator', 'Ladder score',\n",
       "       'Standard error of ladder score', 'upperwhisker', 'lowerwhisker',\n",
       "       'Logged GDP per capita', 'Ladder score in Dystopia',\n",
       "       'Explained by: Log GDP per capita', 'Explained by: Social support',\n",
       "       'Explained by: Healthy life expectancy',\n",
       "       'Explained by: Freedom to make life choices',\n",
       "       'Explained by: Generosity', 'Explained by: Perceptions of corruption',\n",
       "       'Dystopia + residual', 'RANK', 'Happiness score', 'Whisker-high',\n",
       "       'Whisker-low', 'Dystopia (1.83) + residual',\n",
       "       'Explained by: GDP per capita'],\n",
       "      dtype='object')"
      ]
     },
     "execution_count": 18,
     "metadata": {},
     "output_type": "execute_result"
    }
   ],
   "source": [
    "complete_happiness.columns"
   ]
  },
  {
   "cell_type": "code",
   "execution_count": null,
   "id": "7f4f5254",
   "metadata": {},
   "outputs": [],
   "source": [
    "# 2018 through 2021 - scope preliminarily defined\n",
    "# columns to include: happiness rank, happiness score, fr\n"
   ]
  }
 ],
 "metadata": {
  "kernelspec": {
   "display_name": "pythondata",
   "language": "python",
   "name": "pythondata"
  },
  "language_info": {
   "codemirror_mode": {
    "name": "ipython",
    "version": 3
   },
   "file_extension": ".py",
   "mimetype": "text/x-python",
   "name": "python",
   "nbconvert_exporter": "python",
   "pygments_lexer": "ipython3",
   "version": "3.8.12"
  }
 },
 "nbformat": 4,
 "nbformat_minor": 5
}
