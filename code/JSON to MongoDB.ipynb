{
 "cells": [
  {
   "cell_type": "code",
   "execution_count": 9,
   "id": "f341b456",
   "metadata": {},
   "outputs": [],
   "source": [
    "import pandas as pd\n",
    "import pymongo\n",
    "import requests"
   ]
  },
  {
   "cell_type": "code",
   "execution_count": 10,
   "id": "3e31098a",
   "metadata": {},
   "outputs": [],
   "source": [
    "# Reading in the JSON file\n",
    "happiness_df = pd.read_json(\"happiness_data/j.json\")"
   ]
  },
  {
   "cell_type": "code",
   "execution_count": 11,
   "id": "24706349",
   "metadata": {},
   "outputs": [],
   "source": [
    "# connecting to MongoDB\n",
    "# https://docs.mongodb.com/manual/reference/default-mongodb-port/\n",
    "conn = 'mongodb://localhost:27017'\n",
    "client = pymongo.MongoClient(conn)\n",
    "\n",
    "# Define the 'happiness' database in Mongo\n",
    "db = client.world_happiness"
   ]
  },
  {
   "cell_type": "code",
   "execution_count": 12,
   "id": "760a0dcc",
   "metadata": {},
   "outputs": [
    {
     "data": {
      "text/plain": [
       "<pymongo.results.InsertManyResult at 0x22c8e9f1980>"
      ]
     },
     "execution_count": 12,
     "metadata": {},
     "output_type": "execute_result"
    }
   ],
   "source": [
    "#inserting records into MongoDB\n",
    "db.collection.insert_many(happiness_df.to_dict('records'))\n"
   ]
  },
  {
   "cell_type": "code",
   "execution_count": 7,
   "id": "234d4d2b",
   "metadata": {},
   "outputs": [],
   "source": [
    "happiness_df.to_csv(\"happiness.csv\")"
   ]
  },
  {
   "cell_type": "code",
   "execution_count": 8,
   "id": "a71f74e5",
   "metadata": {},
   "outputs": [
    {
     "data": {
      "text/html": [
       "<div>\n",
       "<style scoped>\n",
       "    .dataframe tbody tr th:only-of-type {\n",
       "        vertical-align: middle;\n",
       "    }\n",
       "\n",
       "    .dataframe tbody tr th {\n",
       "        vertical-align: top;\n",
       "    }\n",
       "\n",
       "    .dataframe thead th {\n",
       "        text-align: right;\n",
       "    }\n",
       "</style>\n",
       "<table border=\"1\" class=\"dataframe\">\n",
       "  <thead>\n",
       "    <tr style=\"text-align: right;\">\n",
       "      <th></th>\n",
       "      <th>Country</th>\n",
       "      <th>latitude</th>\n",
       "      <th>longitude</th>\n",
       "      <th>Metrics</th>\n",
       "    </tr>\n",
       "  </thead>\n",
       "  <tbody>\n",
       "    <tr>\n",
       "      <th>0</th>\n",
       "      <td>Afghanistan</td>\n",
       "      <td>33.939110</td>\n",
       "      <td>67.709953</td>\n",
       "      <td>[{'Corruption': 0.09719000000000001, 'Freedom'...</td>\n",
       "    </tr>\n",
       "    <tr>\n",
       "      <th>1</th>\n",
       "      <td>Albania</td>\n",
       "      <td>41.153332</td>\n",
       "      <td>20.168331</td>\n",
       "      <td>[{'Corruption': 0.06413, 'Freedom': 0.35733000...</td>\n",
       "    </tr>\n",
       "    <tr>\n",
       "      <th>2</th>\n",
       "      <td>Algeria</td>\n",
       "      <td>28.033886</td>\n",
       "      <td>1.659626</td>\n",
       "      <td>[{'Corruption': 0.17383, 'Freedom': 0.28579000...</td>\n",
       "    </tr>\n",
       "    <tr>\n",
       "      <th>3</th>\n",
       "      <td>Angola</td>\n",
       "      <td>-11.202692</td>\n",
       "      <td>17.873887</td>\n",
       "      <td>[{'Corruption': 0.07122, 'Freedom': 0.10384, '...</td>\n",
       "    </tr>\n",
       "    <tr>\n",
       "      <th>4</th>\n",
       "      <td>Argentina</td>\n",
       "      <td>-38.416097</td>\n",
       "      <td>-63.616672</td>\n",
       "      <td>[{'Corruption': 0.08484000000000001, 'Freedom'...</td>\n",
       "    </tr>\n",
       "    <tr>\n",
       "      <th>...</th>\n",
       "      <td>...</td>\n",
       "      <td>...</td>\n",
       "      <td>...</td>\n",
       "      <td>...</td>\n",
       "    </tr>\n",
       "    <tr>\n",
       "      <th>148</th>\n",
       "      <td>Venezuela</td>\n",
       "      <td>6.423750</td>\n",
       "      <td>-66.589730</td>\n",
       "      <td>[{'Corruption': 0.11069000000000001, 'Freedom'...</td>\n",
       "    </tr>\n",
       "    <tr>\n",
       "      <th>149</th>\n",
       "      <td>Vietnam</td>\n",
       "      <td>14.058324</td>\n",
       "      <td>108.277199</td>\n",
       "      <td>[{'Corruption': 0.10441, 'Freedom': 0.59444000...</td>\n",
       "    </tr>\n",
       "    <tr>\n",
       "      <th>150</th>\n",
       "      <td>Yemen</td>\n",
       "      <td>15.552727</td>\n",
       "      <td>48.516388</td>\n",
       "      <td>[{'Corruption': 0.07854000000000001, 'Freedom'...</td>\n",
       "    </tr>\n",
       "    <tr>\n",
       "      <th>151</th>\n",
       "      <td>Zambia</td>\n",
       "      <td>-13.133897</td>\n",
       "      <td>27.849332</td>\n",
       "      <td>[{'Corruption': 0.12468000000000001, 'Freedom'...</td>\n",
       "    </tr>\n",
       "    <tr>\n",
       "      <th>152</th>\n",
       "      <td>Zimbabwe</td>\n",
       "      <td>-19.015438</td>\n",
       "      <td>29.154857</td>\n",
       "      <td>[{'Corruption': 0.08079, 'Freedom': 0.25861, '...</td>\n",
       "    </tr>\n",
       "  </tbody>\n",
       "</table>\n",
       "<p>153 rows × 4 columns</p>\n",
       "</div>"
      ],
      "text/plain": [
       "         Country   latitude   longitude  \\\n",
       "0    Afghanistan  33.939110   67.709953   \n",
       "1        Albania  41.153332   20.168331   \n",
       "2        Algeria  28.033886    1.659626   \n",
       "3         Angola -11.202692   17.873887   \n",
       "4      Argentina -38.416097  -63.616672   \n",
       "..           ...        ...         ...   \n",
       "148    Venezuela   6.423750  -66.589730   \n",
       "149      Vietnam  14.058324  108.277199   \n",
       "150        Yemen  15.552727   48.516388   \n",
       "151       Zambia -13.133897   27.849332   \n",
       "152     Zimbabwe -19.015438   29.154857   \n",
       "\n",
       "                                               Metrics  \n",
       "0    [{'Corruption': 0.09719000000000001, 'Freedom'...  \n",
       "1    [{'Corruption': 0.06413, 'Freedom': 0.35733000...  \n",
       "2    [{'Corruption': 0.17383, 'Freedom': 0.28579000...  \n",
       "3    [{'Corruption': 0.07122, 'Freedom': 0.10384, '...  \n",
       "4    [{'Corruption': 0.08484000000000001, 'Freedom'...  \n",
       "..                                                 ...  \n",
       "148  [{'Corruption': 0.11069000000000001, 'Freedom'...  \n",
       "149  [{'Corruption': 0.10441, 'Freedom': 0.59444000...  \n",
       "150  [{'Corruption': 0.07854000000000001, 'Freedom'...  \n",
       "151  [{'Corruption': 0.12468000000000001, 'Freedom'...  \n",
       "152  [{'Corruption': 0.08079, 'Freedom': 0.25861, '...  \n",
       "\n",
       "[153 rows x 4 columns]"
      ]
     },
     "execution_count": 8,
     "metadata": {},
     "output_type": "execute_result"
    }
   ],
   "source": [
    "happiness_df"
   ]
  },
  {
   "cell_type": "code",
   "execution_count": null,
   "id": "7e97a6f8",
   "metadata": {},
   "outputs": [],
   "source": []
  }
 ],
 "metadata": {
  "kernelspec": {
   "display_name": "pythondata",
   "language": "python",
   "name": "pythondata"
  },
  "language_info": {
   "codemirror_mode": {
    "name": "ipython",
    "version": 3
   },
   "file_extension": ".py",
   "mimetype": "text/x-python",
   "name": "python",
   "nbconvert_exporter": "python",
   "pygments_lexer": "ipython3",
   "version": "3.8.8"
  }
 },
 "nbformat": 4,
 "nbformat_minor": 5
}
