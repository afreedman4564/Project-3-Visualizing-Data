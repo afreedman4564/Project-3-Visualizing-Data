{
 "cells": [
  {
   "cell_type": "code",
   "execution_count": 15,
   "id": "93d855cb",
   "metadata": {},
   "outputs": [],
   "source": [
    "# bring in dependencies\n",
    "import pandas as pd\n",
    "import numpy as np"
   ]
  },
  {
   "cell_type": "code",
   "execution_count": 162,
   "id": "6b03a66f",
   "metadata": {},
   "outputs": [],
   "source": [
    "year_list = [\"2015\", \"2016\", \"2017\", \"2018\", \"2019\", \"2020\", \"2021\"]\n",
    "happiness_frame = []\n",
    "happiness_df = pd.DataFrame()\n",
    "\n",
    "file_path = \"../happiness_data/\"\n",
    "\n",
    "for y in year_list:\n",
    "    csv_file = file_path + y + \".csv\"\n",
    "#     year = y\n",
    "#     print(csv_file)\n",
    "    year = pd.read_csv(csv_file)\n",
    "    year[\"yr\"] = y\n",
    "    \n",
    "    year = year.transpose()\n",
    "    year.reset_index(inplace=True)\n",
    "    year.rename(columns = {\"index\": \"col_name\"}, inplace=True)\n",
    "    year = year[year[\"col_name\"].str.contains(\"Region|Rank|RANK|Explain|Standard|Whisker|Confidence|Dystopia|Overall|whisker\") == False]\n",
    "    year[\"new_col_name\"] = np.where(year.col_name.str.contains(\"GDP\"), \"GDP per Capita\",\n",
    "        np.where(year.col_name.str.contains(\"Happiness\"),\"Happiness\", \n",
    "        np.where(year.col_name.str.contains(\"Ladder\"),\"Happiness\",\n",
    "        np.where(year.col_name.str.contains(\"life expectancy\"),\"Life Expectancy\",\n",
    "        np.where(year.col_name.str.contains(\"Freedom\"),\"Freedom\",\n",
    "        np.where(year.col_name.str.contains(\"corruption\"),\"Corruption\",\n",
    "        np.where(year.col_name.str.contains(\"score\"),\"Happiness\",\n",
    "        np.where(year.col_name.str.contains(\"Family\"),\"Social Support\",\n",
    "        np.where(year.col_name.str.contains(\"yr\"),\"Year\",\n",
    "        np.where(year.col_name.str.contains(\"Country\"),\"Country\",\n",
    "        np.where(year.col_name.str.contains(\"Region\"),\"Region\",\n",
    "        np.where(year.col_name.str.contains(\"Corruption\"),\"Corruption\",\n",
    "        np.where(year.col_name.str.contains(\"Expectancy\"),\"Life Expectancy\",\n",
    "        np.where(year.col_name.str.contains(\"Social\"),\"Social Support\",\n",
    "        np.where(year.col_name.str.contains(\"Generosity\"),\"Generosity\",\n",
    "        np.where(year.col_name.str.contains(\"Score\"),\"Happiness\",\n",
    "        \"Other\"))))))))))))))))\n",
    "    year.drop(columns=['col_name'], inplace=True)\n",
    "    year = year.transpose()\n",
    "    year.set_axis([\"Country\", \"Happiness\", \"GDP per Capita\", \"Social Support\", \"Life Expectancy\", \"Freedom\", \"Corruption\", \"Generosity\", \"Year\"], axis=1,inplace = True)\n",
    "    year = year[:-1]\n",
    "    year_df = pd.DataFrame(year)\n",
    "    happiness_df = pd.concat([happiness_df, year_df])  \n",
    "    \n",
    "happiness_df.to_json(r'../happiness_data/happiness_json.json', orient='records')"
   ]
  },
  {
   "cell_type": "code",
   "execution_count": null,
   "id": "3e564f5f",
   "metadata": {},
   "outputs": [],
   "source": []
  }
 ],
 "metadata": {
  "kernelspec": {
   "display_name": "pythondata",
   "language": "python",
   "name": "pythondata"
  },
  "language_info": {
   "codemirror_mode": {
    "name": "ipython",
    "version": 3
   },
   "file_extension": ".py",
   "mimetype": "text/x-python",
   "name": "python",
   "nbconvert_exporter": "python",
   "pygments_lexer": "ipython3",
   "version": "3.8.12"
  }
 },
 "nbformat": 4,
 "nbformat_minor": 5
}
